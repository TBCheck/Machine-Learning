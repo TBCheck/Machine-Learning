{
  "cells": [
    {
      "cell_type": "code",
      "execution_count": 75,
      "metadata": {
        "id": "609uXuSmfoQi"
      },
      "outputs": [],
      "source": [
        "import tensorflow as tf\n",
        "from tensorflow.keras.preprocessing.image import ImageDataGenerator\n",
        "import os\n",
        "from tensorflow.keras.applications.inception_v3 import InceptionV3\n",
        "from tensorflow.keras import layers\n",
        "from tensorflow.keras.optimizers import SGD\n",
        "from tensorflow.keras import Model\n",
        "import pathlib"
      ]
    },
    {
      "cell_type": "markdown",
      "metadata": {
        "id": "I91o7bcghNu4"
      },
      "source": [
        "# Data Preprocessing"
      ]
    },
    {
      "cell_type": "code",
      "execution_count": 3,
      "metadata": {
        "colab": {
          "base_uri": "https://localhost:8080/"
        },
        "id": "vAh3aBjtkbLH",
        "outputId": "892a2dc8-882a-4b4a-9540-c8ed1f9d7293"
      },
      "outputs": [
        {
          "name": "stdout",
          "output_type": "stream",
          "text": [
            "d:\\document\\target\\2021-2022\\event\\bootcamp\\bangkit\\capstone\\data_organize\n"
          ]
        }
      ],
      "source": [
        "# # Mount to gdrive\n",
        "# drive.mount('/content/gdrive')\n",
        "# %cd /content/gdrive\n",
        "\n",
        "os.chdir(\"../\")\n",
        "base_dir = os.getcwd()\n",
        "print(base_dir)\n",
        "data_path = \"data\""
      ]
    },
    {
      "cell_type": "code",
      "execution_count": 4,
      "metadata": {
        "id": "EZR8CFk-tv2j"
      },
      "outputs": [],
      "source": [
        "# Check directory\n",
        "train_path = os.path.join(data_path, \"train\")\n",
        "val_path = os.path.join(data_path, \"validation\")\n",
        "\n",
        "# Directory with training normal/tuberculosis pictures\n",
        "train_normal_dir = os.path.join(train_path, \"normal\")\n",
        "train_tuberculosis_dir = os.path.join(train_path, \"tuberculosis\")\n",
        "# print('total training normal images :', len(os.listdir(train_normal_dir)))\n",
        "# print('total training tuberculosis images :', len(os.listdir(train_tuberculosis_dir)))\n",
        "\n",
        "\n",
        "# Directory with training normal/tuberculosis pictures\n",
        "validation_normal_dir = os.path.join(val_path, 'normal')\n",
        "validation_tuberculosis_dir = os.path.join(val_path, 'tuberculosis')\n",
        "# print('total validation normal images :', len(os.listdir( validation_normal_dir)))\n",
        "# print('total validation tuberculosis images :', len(os.listdir( validation_tuberculosis_dir )))"
      ]
    },
    {
      "cell_type": "code",
      "execution_count": 5,
      "metadata": {
        "colab": {
          "base_uri": "https://localhost:8080/"
        },
        "id": "w7Sd3ydIhP-X",
        "outputId": "40fd7ba2-0571-4a48-80df-3dc18f24eb1c"
      },
      "outputs": [
        {
          "name": "stdout",
          "output_type": "stream",
          "text": [
            "Found 4480 images belonging to 2 classes.\n",
            "Found 1120 images belonging to 2 classes.\n"
          ]
        }
      ],
      "source": [
        "# Melakukan Normalisasi\n",
        "train_datagen= ImageDataGenerator(rescale=1/255)\n",
        "validation_datagen = ImageDataGenerator(rescale= 1/255)\n",
        "\n",
        "# Melakukan Instantiates train data generator\n",
        "train_generator = train_datagen.flow_from_directory(\n",
        "        'data/train',\n",
        "        target_size=(227, 227),\n",
        "        batch_size=32,\n",
        "        class_mode='binary')\n",
        "\n",
        "validation_generator = validation_datagen.flow_from_directory(\n",
        "        'data/validation',\n",
        "        target_size=(227, 227),\n",
        "        batch_size=32,\n",
        "        class_mode='binary'\n",
        ")"
      ]
    },
    {
      "cell_type": "code",
      "execution_count": 6,
      "metadata": {},
      "outputs": [
        {
          "data": {
            "text/plain": [
              "{'normal': 0, 'tuberculosis': 1}"
            ]
          },
          "execution_count": 6,
          "metadata": {},
          "output_type": "execute_result"
        }
      ],
      "source": [
        "train_generator.class_indices"
      ]
    },
    {
      "cell_type": "markdown",
      "metadata": {
        "id": "hyRMLS5n_um9"
      },
      "source": [
        "# Build Model & Convert"
      ]
    },
    {
      "cell_type": "code",
      "execution_count": null,
      "metadata": {
        "id": "DG6Gt12z_yT8"
      },
      "outputs": [],
      "source": [
        "# Download the pre-trained weights\n",
        "# ! curl https://storage.googleapis.com/mledu-datasets/inception_v3_weights_tf_dim_ordering_tf_kernels_notop.h5"
      ]
    },
    {
      "cell_type": "code",
      "execution_count": 88,
      "metadata": {},
      "outputs": [],
      "source": [
        "local_weights_file = 'inception_v3_weights_tf_dim_ordering_tf_kernels_notop.h5'"
      ]
    },
    {
      "cell_type": "code",
      "execution_count": 96,
      "metadata": {
        "id": "jkTI92sVLUB1"
      },
      "outputs": [],
      "source": [
        "# Melakukan instantiates InceptionV3\n",
        "pre_trained_model = InceptionV3(input_shape = (227, 227, 3), \n",
        "                                include_top = False, \n",
        "                                weights = None)\n",
        "\n",
        "pre_trained_model.load_weights(local_weights_file)\n",
        "\n",
        "# Menonaktifkan trainable weights pada layers\n",
        "# untuk menjaga weight tidak berubah\n",
        "for layer in pre_trained_model.layers:\n",
        "  layer.trainable = False"
      ]
    },
    {
      "cell_type": "code",
      "execution_count": 101,
      "metadata": {
        "colab": {
          "base_uri": "https://localhost:8080/"
        },
        "id": "IN4YR6lfOBSl",
        "outputId": "f8a38796-fae1-4d14-ebf4-4e1baa4c3837"
      },
      "outputs": [
        {
          "name": "stdout",
          "output_type": "stream",
          "text": [
            "last layer output shape:  (None, 12, 12, 768)\n"
          ]
        }
      ],
      "source": [
        "# Menentapkan batas layer yang akan digunakan pada Inception\n",
        "last_layer = pre_trained_model.get_layer('mixed7')\n",
        "print('last layer output shape: ', last_layer.output_shape)\n",
        "last_output = last_layer.output"
      ]
    },
    {
      "cell_type": "code",
      "execution_count": 106,
      "metadata": {
        "colab": {
          "base_uri": "https://localhost:8080/"
        },
        "id": "pOislq8uODjN",
        "outputId": "9d7c9b38-2dc0-46fe-cd23-b51a85e28693"
      },
      "outputs": [],
      "source": [
        "x = layers.Flatten()(last_output)\n",
        "x = layers.Dense(512, activation='relu')(x)\n",
        "x = layers.Dense(128, activation='relu')(x)\n",
        "x = layers.Dense(1, activation='sigmoid')(x)\n",
        "model = Model(pre_trained_model.input, x)\n",
        "# model.summary()"
      ]
    },
    {
      "cell_type": "code",
      "execution_count": 107,
      "metadata": {
        "id": "YADlbUmJOGHM"
      },
      "outputs": [],
      "source": [
        "model.compile(optimizer = SGD(learning_rate=0.0001), \n",
        "              loss = 'binary_crossentropy', \n",
        "              metrics = ['accuracy'])"
      ]
    },
    {
      "cell_type": "code",
      "execution_count": 108,
      "metadata": {
        "colab": {
          "background_save": true,
          "base_uri": "https://localhost:8080/"
        },
        "id": "AuzQAVuLOVj1",
        "outputId": "c104dc51-4b99-4131-9f21-d346ec47c8fa"
      },
      "outputs": [
        {
          "name": "stdout",
          "output_type": "stream",
          "text": [
            "Epoch 1/15\n",
            "140/140 - 565s - loss: 0.6537 - accuracy: 0.6692 - val_loss: 0.5838 - val_accuracy: 0.8196 - 565s/epoch - 4s/step\n",
            "Epoch 2/15\n",
            "140/140 - 481s - loss: 0.5286 - accuracy: 0.8687 - val_loss: 0.4815 - val_accuracy: 0.8616 - 481s/epoch - 3s/step\n",
            "Epoch 3/15\n",
            "140/140 - 484s - loss: 0.4391 - accuracy: 0.8837 - val_loss: 0.4117 - val_accuracy: 0.8714 - 484s/epoch - 3s/step\n",
            "Epoch 4/15\n",
            "140/140 - 485s - loss: 0.3792 - accuracy: 0.8929 - val_loss: 0.3651 - val_accuracy: 0.8875 - 485s/epoch - 3s/step\n",
            "Epoch 5/15\n",
            "140/140 - 525s - loss: 0.3374 - accuracy: 0.9007 - val_loss: 0.3316 - val_accuracy: 0.8920 - 525s/epoch - 4s/step\n",
            "Epoch 6/15\n",
            "140/140 - 524s - loss: 0.3071 - accuracy: 0.9069 - val_loss: 0.3063 - val_accuracy: 0.8991 - 524s/epoch - 4s/step\n",
            "Epoch 7/15\n",
            "140/140 - 546s - loss: 0.2838 - accuracy: 0.9132 - val_loss: 0.2861 - val_accuracy: 0.9000 - 546s/epoch - 4s/step\n",
            "Epoch 8/15\n",
            "140/140 - 489s - loss: 0.2651 - accuracy: 0.9190 - val_loss: 0.2696 - val_accuracy: 0.9080 - 489s/epoch - 3s/step\n",
            "Epoch 9/15\n",
            "140/140 - 542s - loss: 0.2498 - accuracy: 0.9230 - val_loss: 0.2550 - val_accuracy: 0.9116 - 542s/epoch - 4s/step\n",
            "Epoch 10/15\n",
            "140/140 - 525s - loss: 0.2367 - accuracy: 0.9270 - val_loss: 0.2434 - val_accuracy: 0.9161 - 525s/epoch - 4s/step\n",
            "Epoch 11/15\n",
            "140/140 - 521s - loss: 0.2254 - accuracy: 0.9304 - val_loss: 0.2323 - val_accuracy: 0.9205 - 521s/epoch - 4s/step\n",
            "Epoch 12/15\n",
            "140/140 - 536s - loss: 0.2153 - accuracy: 0.9359 - val_loss: 0.2238 - val_accuracy: 0.9223 - 536s/epoch - 4s/step\n",
            "Epoch 13/15\n",
            "140/140 - 522s - loss: 0.2067 - accuracy: 0.9364 - val_loss: 0.2142 - val_accuracy: 0.9286 - 522s/epoch - 4s/step\n",
            "Epoch 14/15\n",
            "140/140 - 505s - loss: 0.1987 - accuracy: 0.9402 - val_loss: 0.2059 - val_accuracy: 0.9321 - 505s/epoch - 4s/step\n",
            "Epoch 15/15\n",
            "140/140 - 549s - loss: 0.1915 - accuracy: 0.9453 - val_loss: 0.2000 - val_accuracy: 0.9330 - 549s/epoch - 4s/step\n"
          ]
        }
      ],
      "source": [
        "history = model.fit(\n",
        "            train_generator,\n",
        "            steps_per_epoch = train_generator.samples//train_generator.batch_size,\n",
        "            validation_data = validation_generator,\n",
        "            validation_steps = validation_generator.samples//validation_generator.batch_size,\n",
        "            epochs = 15,\n",
        "            verbose = 2)"
      ]
    },
    {
      "cell_type": "code",
      "execution_count": null,
      "metadata": {},
      "outputs": [],
      "source": [
        "saved_model = \"saved_model\"\n",
        "tf.saved_model.save(model, saved_model)"
      ]
    },
    {
      "cell_type": "code",
      "execution_count": 110,
      "metadata": {},
      "outputs": [],
      "source": [
        "converter = tf.lite.TFLiteConverter.from_saved_model(saved_model)\n",
        "converter.optimizations = [tf.lite.Optimize.DEFAULT]\n",
        "tflite_model = converter.convert()"
      ]
    },
    {
      "cell_type": "code",
      "execution_count": 111,
      "metadata": {},
      "outputs": [
        {
          "data": {
            "text/plain": [
              "65832280"
            ]
          },
          "execution_count": 111,
          "metadata": {},
          "output_type": "execute_result"
        }
      ],
      "source": [
        "tflite_model_file = pathlib.Path('model.tflite')\n",
        "tflite_model_file.write_bytes(tflite_model)"
      ]
    }
  ],
  "metadata": {
    "accelerator": "GPU",
    "colab": {
      "collapsed_sections": [],
      "name": "models.ipynb",
      "provenance": [],
      "toc_visible": true
    },
    "interpreter": {
      "hash": "c25269a4018224bb4e3cb6b79397037e31419b0dedc1b97e47175df2e08dbf7b"
    },
    "kernelspec": {
      "display_name": "Python 3.9.1 64-bit",
      "language": "python",
      "name": "python3"
    },
    "language_info": {
      "codemirror_mode": {
        "name": "ipython",
        "version": 3
      },
      "file_extension": ".py",
      "mimetype": "text/x-python",
      "name": "python",
      "nbconvert_exporter": "python",
      "pygments_lexer": "ipython3",
      "version": "3.9.1"
    }
  },
  "nbformat": 4,
  "nbformat_minor": 0
}
